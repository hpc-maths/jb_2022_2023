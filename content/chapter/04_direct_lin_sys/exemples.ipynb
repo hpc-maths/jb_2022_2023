{
 "cells": [
  {
   "cell_type": "markdown",
   "id": "bc5fbe5d-8850-494e-acab-9f6c398ec517",
   "metadata": {},
   "source": [
    "# Exemples"
   ]
  },
  {
   "cell_type": "markdown",
   "id": "901f537f-f01c-4b9d-bc53-c1d84c8a4a3f",
   "metadata": {},
   "source": [
    "## Matrice de Hilbert\n",
    "\n",
    "Une matrice de Hilbert est une matrice carrée de terme général :\n",
    "\n",
    "$$ H_{ij} = \\frac{1}{i+j-1} $$\n",
    "\n",
    "La matrice de Hilbert de taille 6 s'écrit :\n",
    "\n",
    "$$\\begin{pmatrix}\n",
    " 1   & 1/2 & 1/3 & 1/4 & 1/5  & 1/6  \\\\\n",
    " 1/2 & 1/3 & 1/4 & 1/5 & 1/6  & 1/7  \\\\\n",
    " 1/3 & 1/4 & 1/5 & 1/6 & 1/7  & 1/8  \\\\\n",
    " 1/4 & 1/5 & 1/6 & 1/7 & 1/8  & 1/9  \\\\\n",
    " 1/5 & 1/6 & 1/7 & 1/8 & 1/9  & 1/10 \\\\\n",
    " 1/6 & 1/7 & 1/8 & 1/9 & 1/10 & 1/11  \n",
    "\\end{pmatrix}$$"
   ]
  },
  {
   "cell_type": "markdown",
   "id": "eec51c3d-a92b-4280-9288-818764cddd6a",
   "metadata": {},
   "source": [
    "On initialise une matrice de Hilbert de taille $n$ avec des fractions fractionnelles de sorte de faire calculs exacts."
   ]
  },
  {
   "cell_type": "code",
   "execution_count": 3,
   "id": "e21cf32b-b89f-46f7-9c3c-19be5cdc3bc9",
   "metadata": {},
   "outputs": [
    {
     "name": "stdout",
     "output_type": "stream",
     "text": [
      "⎛   1  1/2  1/3  1/4  1/5  1/6  1/7  1/8  1/9 1/10⎞\n",
      "⎜ 1/2  1/3  1/4  1/5  1/6  1/7  1/8  1/9 1/10 1/11⎟\n",
      "⎜ 1/3  1/4  1/5  1/6  1/7  1/8  1/9 1/10 1/11 1/12⎟\n",
      "⎜ 1/4  1/5  1/6  1/7  1/8  1/9 1/10 1/11 1/12 1/13⎟\n",
      "⎜ 1/5  1/6  1/7  1/8  1/9 1/10 1/11 1/12 1/13 1/14⎟\n",
      "⎜ 1/6  1/7  1/8  1/9 1/10 1/11 1/12 1/13 1/14 1/15⎟\n",
      "⎜ 1/7  1/8  1/9 1/10 1/11 1/12 1/13 1/14 1/15 1/16⎟\n",
      "⎜ 1/8  1/9 1/10 1/11 1/12 1/13 1/14 1/15 1/16 1/17⎟\n",
      "⎜ 1/9 1/10 1/11 1/12 1/13 1/14 1/15 1/16 1/17 1/18⎟\n",
      "⎝1/10 1/11 1/12 1/13 1/14 1/15 1/16 1/17 1/18 1/19⎠\n"
     ]
    }
   ],
   "source": [
    "n = 10\n",
    "A = matrix(QQ, [[1/(i+j-1) for j in [1..n]] for i in [1..n]])\n",
    "print(A.str(unicode=True))"
   ]
  },
  {
   "cell_type": "markdown",
   "id": "337196d3-6d35-495f-b67d-bbe1beac856e",
   "metadata": {},
   "source": [
    "On choisit un second membre $b$ tel que chaque composante du vecteur solution $x$ vaut $1$ :"
   ]
  },
  {
   "cell_type": "code",
   "execution_count": 4,
   "id": "32fa0c16-b1c9-47a4-8f8a-3fcaec607304",
   "metadata": {},
   "outputs": [
    {
     "name": "stdout",
     "output_type": "stream",
     "text": [
      "⎛        7381/2520⎞\n",
      "⎜      55991/27720⎟\n",
      "⎜      44441/27720⎟\n",
      "⎜    485333/360360⎟\n",
      "⎜    420983/360360⎟\n",
      "⎜      74587/72072⎟\n",
      "⎜    134159/144144⎟\n",
      "⎜  2074783/2450448⎟\n",
      "⎜    634871/816816⎟\n",
      "⎝33464927/46558512⎠\n"
     ]
    }
   ],
   "source": [
    "x = vector(QQ, [1 for i in range(0,n)])\n",
    "b = A*x\n",
    "print(b.column().str(unicode=True))"
   ]
  },
  {
   "cell_type": "markdown",
   "id": "df8930f7-b3f2-4c39-bed1-597d9275b968",
   "metadata": {},
   "source": [
    "On vérifie la solution :"
   ]
  },
  {
   "cell_type": "code",
   "execution_count": 5,
   "id": "79e65af0-b49d-43c9-96c8-4f0243a03f19",
   "metadata": {},
   "outputs": [
    {
     "name": "stdout",
     "output_type": "stream",
     "text": [
      "⎛1⎞\n",
      "⎜1⎟\n",
      "⎜1⎟\n",
      "⎜1⎟\n",
      "⎜1⎟\n",
      "⎜1⎟\n",
      "⎜1⎟\n",
      "⎜1⎟\n",
      "⎜1⎟\n",
      "⎝1⎠\n"
     ]
    }
   ],
   "source": [
    "x = A\\b\n",
    "print(x.column().str(unicode=True))"
   ]
  },
  {
   "cell_type": "markdown",
   "id": "48a0ef50-8a84-40c6-965c-ffcc9e3f19c5",
   "metadata": {},
   "source": [
    "On perturbe la dernière composante du second membre de (1/1000000), on résoud le système et on s'attend à trouver une solution proche du vecteur dont les composantes valents $1$ :"
   ]
  },
  {
   "cell_type": "code",
   "execution_count": 6,
   "id": "5305aa2d-2dfb-4933-a363-ec491a9eecf3",
   "metadata": {},
   "outputs": [
    {
     "name": "stdout",
     "output_type": "stream",
     "text": [
      "⎛  16935073/50400000⎞\n",
      "⎜    34024927/560000⎟\n",
      "⎜  -367834197/280000⎟\n",
      "⎜    368144197/30000⎟\n",
      "⎜  -4785404561/80000⎟\n",
      "⎜ 33498591927/200000⎟\n",
      "⎜-33498271927/120000⎟\n",
      "⎜   4785502061/17500⎟\n",
      "⎜-81352677537/560000⎟\n",
      "⎝81355757537/2520000⎠\n"
     ]
    }
   ],
   "source": [
    "b[n-1] *= (1+1/(1000000)) #  perturbation du second membre\n",
    "x_pert = A\\b\n",
    "print(x_pert.column().str(unicode=True))"
   ]
  },
  {
   "cell_type": "code",
   "execution_count": 7,
   "id": "c1eafb76-8fac-42c7-8cb4-5ae4f706fccd",
   "metadata": {},
   "outputs": [
    {
     "name": "stdout",
     "output_type": "stream",
     "text": [
      "Norme infinie de l'écart entre la solution et la solution perturbée : 279153.26605833333\n"
     ]
    }
   ],
   "source": [
    "err = max(abs(float(x[i]-x_pert[i])) for i in range(0,n))\n",
    "print(\"Norme infinie de l'écart entre la solution et la solution perturbée :\", err)"
   ]
  },
  {
   "cell_type": "markdown",
   "id": "97aac65c-ecd2-4d9b-b24e-b42a3d1ec877",
   "metadata": {},
   "source": [
    "## Exemple de Forsythe\n",
    "\n",
    "On considère le système :\n",
    "\n",
    "$$\n",
    "\\begin{pmatrix}\n",
    " 0.0001   & 1 \\\\\n",
    " 1   & 1 \n",
    "\\end{pmatrix}\n",
    "\\begin{pmatrix}\n",
    " x_1  \\\\\n",
    " x_2  \n",
    "\\end{pmatrix}\n",
    "=\n",
    "\\begin{pmatrix}\n",
    " 1.0001  \\\\\n",
    " 2  \n",
    "\\end{pmatrix}\n",
    "$$\n",
    "\n",
    "pour lequel la solution exacte est $x_1 = 1$ et $x_2 = 1$.\n",
    "\n",
    "On utilise l'algorithme de l’élimination de Gauss pour des flottants avec 3 chiffres significatifs (en base 10)."
   ]
  },
  {
   "cell_type": "code",
   "execution_count": 44,
   "id": "54fad72f-170e-4ee6-bbdf-ae012308d0cd",
   "metadata": {},
   "outputs": [
    {
     "name": "stdout",
     "output_type": "stream",
     "text": [
      "Solution : x1 = 2.44 et x2 = 1.0\n"
     ]
    }
   ],
   "source": [
    "import numpy as np\n",
    "from mpmath import mp\n",
    "\n",
    "def gaussian_elimination_without_pivoting(a, b): \n",
    "    n = b.size\n",
    "    for i in range(n-1):\n",
    "        # elimination\n",
    "        li = a[i+1:,i]/a[i,i]\n",
    "        b[i+1:] = b[i+1:] - li * b[i]\n",
    "        a[i+1:] = a[i+1:] - li.reshape(n-i-1,1)*a[i]\n",
    "        \n",
    "def backward_substitution(a, b):\n",
    "    n = b.size\n",
    "    x = b[0]*np.zeros(n)\n",
    "    for i in range(n-1, -1, -1):\n",
    "        x[i] = (b[i] - np.sum(a[i,i+1:]*x[i+1:])) / a[i,i]\n",
    "    return x\n",
    "\n",
    "def gauss_solve_without_pivoting(a, b):\n",
    "    ag = np.copy(a) \n",
    "    bg = np.copy(b)\n",
    "    gaussian_elimination_without_pivoting(ag, bg)\n",
    "    return backward_substitution(ag, bg)\n",
    "\n",
    "mp.dps = 3\n",
    "a11 = mp.mpf('1e-4')\n",
    "b1 = mp.mpf('1.0001')\n",
    "\n",
    "one = mp.mpf('1')\n",
    "two = mp.mpf('2')\n",
    "\n",
    "a = np.matrix([[a11, one], [one, one]])\n",
    "b = np.array([b1, two])\n",
    "\n",
    "x = gauss_solve_without_pivoting(a, b)\n",
    "print(\"Solution : x1 =\", x[0], \"et x2 =\", x[1])"
   ]
  },
  {
   "cell_type": "markdown",
   "id": "cfd7e08b-e3a9-4821-9fbe-01972b6db0b2",
   "metadata": {},
   "source": [
    "On intervertit les deux lignes du système :\n",
    "\n",
    "$$\n",
    "\\begin{pmatrix}\n",
    " 1   & 1 \\\\ \n",
    " 0.0001   & 1 \n",
    "\\end{pmatrix}\n",
    "\\begin{pmatrix}\n",
    " x_2  \\\\\n",
    " x_1  \n",
    "\\end{pmatrix}\n",
    "=\n",
    "\\begin{pmatrix}\n",
    "  2  \\\\\n",
    "  1.0001\n",
    "\\end{pmatrix}\n",
    "$$"
   ]
  },
  {
   "cell_type": "code",
   "execution_count": 46,
   "id": "4b913aae-f4fa-4642-a96c-36660852419d",
   "metadata": {},
   "outputs": [
    {
     "name": "stdout",
     "output_type": "stream",
     "text": [
      "Solution : x1 = 1.0 et x2 = 1.0\n"
     ]
    }
   ],
   "source": [
    "mp.dps = 3\n",
    "a21 = mp.mpf('1e-4')\n",
    "b1 = mp.mpf('1.0001')\n",
    "\n",
    "one = mp.mpf('1')\n",
    "two = mp.mpf('2')\n",
    "\n",
    "a = np.matrix([[one, one],[a21, one]])\n",
    "b = np.array([two, b1])\n",
    "\n",
    "x = gauss_solve_without_pivoting(a, b)\n",
    "print(\"Solution : x1 =\", x[1], \"et x2 =\", x[0])"
   ]
  }
 ],
 "metadata": {
  "kernelspec": {
   "display_name": "SageMath 9.5",
   "language": "sage",
   "name": "sagemath"
  },
  "language_info": {
   "codemirror_mode": {
    "name": "ipython",
    "version": 3
   },
   "file_extension": ".py",
   "mimetype": "text/x-python",
   "name": "python",
   "nbconvert_exporter": "python",
   "pygments_lexer": "ipython3",
   "version": "3.10.4"
  }
 },
 "nbformat": 4,
 "nbformat_minor": 5
}
