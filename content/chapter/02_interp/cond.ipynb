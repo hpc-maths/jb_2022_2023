{
 "cells": [
  {
   "cell_type": "code",
   "execution_count": null,
   "id": "fd4a82cc",
   "metadata": {},
   "outputs": [],
   "source": [
    "#\n",
    "#    Notebook de cours MAP412 - Chapitre 2 - M. Massot 2022-2023 - Ecole polytechnique\n",
    "#    ----------   \n",
    "#    Distribution des points et conditionnement\n",
    "#    \n",
    "#    Auteurs : L. Séries et M. Massot - (C) 2022\n",
    "#    "
   ]
  },
  {
   "cell_type": "markdown",
   "id": "a229995c",
   "metadata": {},
   "source": [
    "# Distribution des points et conditionnement"
   ]
  },
  {
   "cell_type": "markdown",
   "id": "c1920a48",
   "metadata": {},
   "source": [
    "On considère l’approximation polynomiale de la fonction $f(x)=2 + \\sin(\\pi x)$ sur $[-1,1]$."
   ]
  },
  {
   "cell_type": "code",
   "execution_count": null,
   "id": "0375d5f7-3aa9-4f0b-894e-935cea868570",
   "metadata": {},
   "outputs": [],
   "source": [
    "def f(x):\n",
    "    return 2 + np.sin(np.pi*x)\n",
    "\n",
    "xmin = -1.; xmax = 1."
   ]
  },
  {
   "cell_type": "code",
   "execution_count": null,
   "id": "a92a314d",
   "metadata": {
    "tags": [
     "hide-input"
    ]
   },
   "outputs": [],
   "source": [
    "import numpy as np\n",
    "import plotly.graph_objects as go\n",
    "from plotly.subplots import make_subplots\n",
    "\n",
    "def improved_lag_interp(xk, yk, x):\n",
    "    n = xk.size\n",
    "    l = np.ones(x.size)\n",
    "    p = np.zeros(x.size)\n",
    "    \n",
    "    wk = np.zeros(n) \n",
    "    for k in range(n):\n",
    "        wk[k] = 1. / (np.prod( xk[k] - xk[np.arange(n)!=k] ))\n",
    "    \n",
    "    mask = np.in1d(x, xk[:])\n",
    "    p[np.where(mask)] = yk[np.where(np.in1d(xk, x))]\n",
    "    mask = np.invert(mask)    \n",
    "\n",
    "    for k in range(n):\n",
    "        l[mask] *= x[mask] - xk[k]\n",
    "        p[mask] += (wk[k]/(x[mask] - xk[k])) * yk[k]\n",
    "        \n",
    "    return l*p\n",
    "\n",
    "def cheb_points(xmin, xmax, n):\n",
    "    x = np.zeros(n+1)\n",
    "    for i in range(n+1):\n",
    "        x[i] = (xmin+xmax)/2 + ((xmax-xmin)/2) * np.cos(((2*i+1)*np.pi)/(2*n + 2))\n",
    "    return x\n",
    "\n",
    "def noise(eps, x): \n",
    "    return eps * (2*np.random.rand(x.size)-1) \n",
    "\n",
    "def lagrange(k, xk, x):\n",
    "    lag = np.ones(x.size)\n",
    "    for j in range(xk.size):\n",
    "        if (j!=k): lag *= (x-xk[j])/(xk[k]-xk[j])\n",
    "    return lag\n",
    "\n",
    "def compute_cond(xk, yk, pn, x):\n",
    "    cond = np.zeros(x.size)\n",
    "    for k in range(xk.size):\n",
    "        cond += np.abs(lagrange(k, xk, x) * yk[k]) / np.abs(pn)\n",
    "    return cond"
   ]
  },
  {
   "cell_type": "markdown",
   "id": "7be887cd",
   "metadata": {},
   "source": [
    "On utilise la méthode de Lagrange modifiée (formule barycentrique du polynôme d'interpolation) qui présente de bonnes propriétés de stabilité. "
   ]
  },
  {
   "cell_type": "markdown",
   "id": "d4ecb71e",
   "metadata": {},
   "source": [
    "## Points équidistribués\n",
    "\n",
    "On interpole la fonction $f(x)$ en utilisant des points équidistants.  "
   ]
  },
  {
   "cell_type": "code",
   "execution_count": null,
   "id": "e4f79c1c",
   "metadata": {},
   "outputs": [],
   "source": [
    "# x use to display f and pn\n",
    "xplot = np.linspace(xmin, xmax, 500)\n",
    "\n",
    "# x use to display relative conditionning\n",
    "xcond = np.linspace(xmin, xmax, 100)\n",
    "\n",
    "# maximal degree of Newton interpolating polynomial\n",
    "n_max = 71\n",
    "\n",
    "# array of degree\n",
    "n = np.arange(19, n_max+1, 2)\n",
    "\n",
    "# compute for each degree xi, yi and pn\n",
    "xi = []; yi = []; pn = []; cond = []\n",
    "for i, ni in enumerate(n):\n",
    "    xi.append(np.linspace(xmin, xmax, ni+1))\n",
    "    yi.append(f(xi[i]))\n",
    "    pn.append(improved_lag_interp(xi[i], yi[i], xplot))\n",
    "    cond.append(compute_cond(xi[i], xi[i], improved_lag_interp(xi[i], yi[i], xcond), xcond))\n",
    "\n",
    "# Create figure\n",
    "fig = make_subplots(rows=2, cols=1, vertical_spacing = 0.1,\n",
    "                    subplot_titles=(\"Approximation polynomiale\", \"Conditionnement relatif local\"))\n",
    "\n",
    "# add f(x) plot\n",
    "fig.add_trace(go.Scatter(visible=True, x=xplot, y=f(xplot), name=\"f(x)\"))\n",
    "\n",
    "# add yi and pn(x) invisible plots\n",
    "for i, ni in enumerate(n):\n",
    "    fig.add_trace(go.Scatter(visible=False, x=xplot, y=pn[i], name=f\"p{ni}(x)\", marker=dict(color='forestgreen')))\n",
    "    fig.add_trace(go.Scatter(visible=False, x=xi[i], y=yi[i], mode='markers', name=\"pts d'interpolation\", marker=dict(color='forestgreen')))\n",
    "    fig.add_trace(go.Scatter(visible=False, x=xcond, y=cond[i], mode='markers', name=\"cond. relatif local\"), row=2, col=1)\n",
    "\n",
    "# Make plot visible for n[0]\n",
    "fig.data[1].visible = True\n",
    "fig.data[2].visible = True\n",
    "fig.data[3].visible = True\n",
    "\n",
    "# Create and add slider\n",
    "steps = []\n",
    "for i, ni in enumerate(n):\n",
    "    step = dict(method=\"update\", label = f\" {ni+1}\",\n",
    "                args=[{\"visible\": [el==0 or el==3*i+1 or el==3*i+2 or el==3*i+3 for el in range(len(fig.data))]}])\n",
    "    steps.append(step)\n",
    "        \n",
    "sliders = [dict(currentvalue={\"prefix\": \"nb points: \"}, steps=steps)]\n",
    "\n",
    "fig.update_layout(sliders=sliders, height=750, title=\"Approximation polynomiale utilisant des points équidistants\")\n",
    "fig.update_yaxes(range=[0.9, 3.1], row=1)\n",
    "fig.update_yaxes(type=\"log\", exponentformat='e', row=2)\n",
    "\n",
    "fig.show()"
   ]
  },
  {
   "cell_type": "markdown",
   "id": "8f12150a",
   "metadata": {},
   "source": [
    "## Points de Tchebychef\n",
    "\n",
    "On interpole la fonction $f(x)$ en utilisant des points de Tchebychef.  "
   ]
  },
  {
   "cell_type": "code",
   "execution_count": null,
   "id": "1155def1",
   "metadata": {},
   "outputs": [],
   "source": [
    "# x use to display f and pn\n",
    "xplot = np.linspace(xmin, xmax, 1500)\n",
    "\n",
    "# x use to display relative conditionning\n",
    "xcond = np.linspace(xmin, xmax, 100)\n",
    "\n",
    "# maximal degree of Newton interpolating polynomial\n",
    "n_max = 520\n",
    "\n",
    "# array of degree\n",
    "n = np.arange(19, n_max+1, 40)\n",
    "\n",
    "# compute for each degree xi, yi and pn\n",
    "xi = []; yi = []; pn = []; cond = []\n",
    "for i, ni in enumerate(n):\n",
    "    xi.append(cheb_points(xmin, xmax, ni))\n",
    "    yi.append(f(xi[i]))\n",
    "    pn.append(improved_lag_interp(xi[i], yi[i], xplot))\n",
    "    cond.append(compute_cond(xi[i], xi[i], improved_lag_interp(xi[i], yi[i], xcond), xcond))\n",
    "\n",
    "# Create figure\n",
    "fig = make_subplots(rows=2, cols=1, vertical_spacing = 0.1,\n",
    "                    subplot_titles=(\"Approximation polynomiale\", \"Conditionnement relatif local\"))\n",
    "\n",
    "# add f(x) plot\n",
    "fig.add_trace(go.Scatter(visible=True, x=xplot, y=f(xplot), name=\"f(x)\"))\n",
    "\n",
    "# add yi and pn(x) invisible plots\n",
    "for i, ni in enumerate(n):\n",
    "    fig.add_trace(go.Scatter(visible=False, x=xplot, y=pn[i], name=f\"p{ni}(x)\", marker=dict(color='forestgreen')))\n",
    "    fig.add_trace(go.Scatter(visible=False, x=xi[i], y=yi[i], mode='markers', name=\"pts d'interpolation\", marker=dict(color='forestgreen')))\n",
    "    fig.add_trace(go.Scatter(visible=False, x=xcond, y=cond[i], mode='markers', name=\"cond. relatif local\"), row=2, col=1)\n",
    "\n",
    "# Make plot visible for n[0]\n",
    "fig.data[1].visible = True\n",
    "fig.data[2].visible = True\n",
    "fig.data[3].visible = True\n",
    "\n",
    "# Create and add slider\n",
    "steps = []\n",
    "for i, ni in enumerate(n):\n",
    "    step = dict(method=\"update\", label = f\" {ni+1}\",\n",
    "                args=[{\"visible\": [el==0 or el==3*i+1 or el==3*i+2 or el==3*i+3 for el in range(len(fig.data))]}])\n",
    "    steps.append(step)\n",
    "        \n",
    "sliders = [dict(currentvalue={\"prefix\": \"nb points: \"}, steps=steps)]\n",
    "\n",
    "fig.update_layout(sliders=sliders, height=750, title=\"Approximation polynomiale utilisant des points équidistants\")\n",
    "fig.update_yaxes(range=[0.9, 3.1], row=1)\n",
    "\n",
    "fig.show()"
   ]
  }
 ],
 "metadata": {
  "celltoolbar": "Format de la Cellule Texte Brut",
  "kernelspec": {
   "display_name": "Python 3 (ipykernel)",
   "language": "python",
   "name": "python3"
  },
  "language_info": {
   "codemirror_mode": {
    "name": "ipython",
    "version": 3
   },
   "file_extension": ".py",
   "mimetype": "text/x-python",
   "name": "python",
   "nbconvert_exporter": "python",
   "pygments_lexer": "ipython3",
   "version": "3.10.4"
  }
 },
 "nbformat": 4,
 "nbformat_minor": 5
}
