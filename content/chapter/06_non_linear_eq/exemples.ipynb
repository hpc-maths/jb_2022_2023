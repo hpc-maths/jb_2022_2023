{
 "cells": [
  {
   "cell_type": "code",
   "execution_count": null,
   "id": "8bd1e286-3b51-412c-9512-98199340dc18",
   "metadata": {},
   "outputs": [],
   "source": [
    "#\n",
    "#    Notebook de cours MAP412 - Chapitre 6 - M. Massot 2022-2023 - Ecole polytechnique\n",
    "#    ----------   \n",
    "#    Exemples de résolution d'équation non linéaire\n",
    "#    \n",
    "#    Auteurs : L. Séries et M. Massot - (C) 2022\n",
    "#   "
   ]
  },
  {
   "cell_type": "markdown",
   "id": "0a6fdd71-1b4f-4ea5-849b-0cb5a5ab40fd",
   "metadata": {},
   "source": [
    "# Exemples de résolution d'équation non linéaire"
   ]
  },
  {
   "cell_type": "code",
   "execution_count": null,
   "id": "9c724c96-ef1d-48fa-b4a4-ece1722b3f63",
   "metadata": {},
   "outputs": [],
   "source": [
    "import numpy as np\n",
    "import plotly.graph_objects as go\n",
    "import plotly.io as pio\n",
    "pio.templates.default = \"seaborn\""
   ]
  },
  {
   "cell_type": "markdown",
   "id": "16e49fff-82f6-49ff-a5af-319255950684",
   "metadata": {},
   "source": [
    "## Méthode de Newton dans un cas bien conditionné¶ "
   ]
  },
  {
   "cell_type": "markdown",
   "id": "b34485ce-975d-4529-8de6-361db759fcf2",
   "metadata": {},
   "source": [
    "On propose de tester la méthode Newton sur la fonction :\n",
    "\n",
    "$$ f(x) = x^3 - 2x -5 $$"
   ]
  },
  {
   "cell_type": "code",
   "execution_count": null,
   "id": "44b02956-aff9-45a2-bf74-6f00c6a2c6c9",
   "metadata": {},
   "outputs": [],
   "source": [
    "def f(x):\n",
    "    return x**3 - 2*x - 5\n",
    "\n",
    "def df(x):\n",
    "    return 3*x**2 - 2"
   ]
  },
  {
   "cell_type": "code",
   "execution_count": null,
   "id": "9a805355-5348-4f64-a39d-a15af16dee1f",
   "metadata": {},
   "outputs": [],
   "source": [
    "xmin=-2; xmax=3\n",
    "x = np.linspace(xmin, xmax, 1000)   \n",
    "fig = go.Figure()\n",
    "fig.add_trace(go.Scatter(x=x, y=f(x), name='f(x)', showlegend=True))\n",
    "fig.show()"
   ]
  },
  {
   "cell_type": "code",
   "execution_count": null,
   "id": "014eb16b-46c1-47b5-b306-081a04c3466d",
   "metadata": {},
   "outputs": [],
   "source": [
    "def newton(f, df, x0, tol=1e-14, nitmax=30):\n",
    "\n",
    "    # initialisation\n",
    "    x = np.zeros(nitmax+1)\n",
    "    x[0] = x0\n",
    "\n",
    "    # iteration de Newton\n",
    "    for i in range(1, nitmax+1):\n",
    "        x[i] = x[i-1] - f(x[i-1])/df(x[i-1])\n",
    "        print(f\"it = {i:3d}, xn = {x[i]:16.9e}, |f(xn)| = {abs(f(x[i])):14.8e}, |xn - xn-1| = {abs(x[i-1]-x[i]):14.8e}\" )\n",
    "        if ( abs(f(x[i])) < tol ): break\n",
    " \n",
    "    return x[0:i+1]"
   ]
  },
  {
   "cell_type": "code",
   "execution_count": null,
   "id": "b033b83b-8d2f-481d-bb8c-047b060922ba",
   "metadata": {},
   "outputs": [],
   "source": [
    "xsol = newton(f, df, x0=0.5)"
   ]
  },
  {
   "cell_type": "markdown",
   "id": "32799fd6-130e-4c43-814a-9a31cd4e48c1",
   "metadata": {},
   "source": [
    "## Méthode de Newton dans un cas pathologique¶ "
   ]
  },
  {
   "cell_type": "markdown",
   "id": "9905b3aa-d4ea-4a1b-8680-8659ff1bbd45",
   "metadata": {},
   "source": [
    "On considère la fonction :\n",
    "\n",
    "$$ g(x) = x^2 + 10^{-15} $$\n",
    "\n",
    "Cette fonction est strictement positive."
   ]
  },
  {
   "cell_type": "code",
   "execution_count": null,
   "id": "e9b92d4a-509f-4c01-99ab-31033e5d8c24",
   "metadata": {},
   "outputs": [],
   "source": [
    "def g(x):\n",
    "    return x**2 + 1.e-15\n",
    "\n",
    "def dg(x):\n",
    "    return 2*x "
   ]
  },
  {
   "cell_type": "code",
   "execution_count": null,
   "id": "105d38a4-f22a-430c-89fa-074f6fcee260",
   "metadata": {},
   "outputs": [],
   "source": [
    "xmin=-1; xmax=1\n",
    "x = np.linspace(xmin, xmax, 1000)   \n",
    "fig = go.Figure()\n",
    "fig.add_trace(go.Scatter(x=x, y=g(x), name='g(x)', showlegend=True))\n",
    "fig.show()"
   ]
  },
  {
   "cell_type": "code",
   "execution_count": null,
   "id": "aa145612-b324-42ee-9f35-5a1ae1970ebd",
   "metadata": {},
   "outputs": [],
   "source": [
    "xsol = newton(g, dg, x0=1, tol=1.e-14, nitmax=100)"
   ]
  },
  {
   "cell_type": "markdown",
   "id": "7e722aed-d83c-48d3-a184-275ff5e7eff5",
   "metadata": {},
   "source": [
    "## Choix de l'itéré initial"
   ]
  },
  {
   "cell_type": "code",
   "execution_count": null,
   "id": "2e1ec1a4-019e-48e1-a8cd-0bd134a4d2be",
   "metadata": {},
   "outputs": [],
   "source": [
    "def h(x):\n",
    "    return np.exp(x)-1\n",
    "\n",
    "def dh(x):\n",
    "    return np.exp(x)"
   ]
  },
  {
   "cell_type": "code",
   "execution_count": null,
   "id": "9bb26fc6-efbc-4ae2-812c-924450e0dadb",
   "metadata": {},
   "outputs": [],
   "source": [
    "xmin=-6; xmax=1\n",
    "x = np.linspace(xmin, xmax, 1000)   \n",
    "fig = go.Figure()\n",
    "fig.add_trace(go.Scatter(x=x, y=h(x), name='h(x)', showlegend=True))\n",
    "fig.show()"
   ]
  },
  {
   "cell_type": "code",
   "execution_count": null,
   "id": "92bbec96-8d0a-4bbf-9dee-cdcd67ad2bd7",
   "metadata": {},
   "outputs": [],
   "source": [
    "xsol = newton(h, dh, x0=-5, tol=1.e-10, nitmax=100)"
   ]
  }
 ],
 "metadata": {
  "kernelspec": {
   "display_name": "Python 3 (ipykernel)",
   "language": "python",
   "name": "python3"
  },
  "language_info": {
   "codemirror_mode": {
    "name": "ipython",
    "version": 3
   },
   "file_extension": ".py",
   "mimetype": "text/x-python",
   "name": "python",
   "nbconvert_exporter": "python",
   "pygments_lexer": "ipython3",
   "version": "3.10.4"
  }
 },
 "nbformat": 4,
 "nbformat_minor": 5
}
