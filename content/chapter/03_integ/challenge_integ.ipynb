{
 "cells": [
  {
   "cell_type": "code",
   "execution_count": null,
   "id": "92addcc4-dd0e-409d-8258-24ec49ca34b4",
   "metadata": {},
   "outputs": [],
   "source": [
    "#\n",
    "#    Notebook de cours MAP412 - Chapitre 3 - M. Massot 2022-2023 - Ecole polytechnique\n",
    "#    ----------   \n",
    "#    Challenge  interpolation     \n",
    "#    Auteurs : L. Séries et M. Massot - (C) 2022\n",
    "#    "
   ]
  },
  {
   "cell_type": "markdown",
   "id": "1726bb06-3913-40ab-b2b4-6f751b6bc6d1",
   "metadata": {},
   "source": [
    "# Challenge : interpolation d'une fonction singulière"
   ]
  },
  {
   "cell_type": "markdown",
   "id": "853df58a-0856-415e-a678-77f0448985cc",
   "metadata": {},
   "source": [
    "On cherche à intégrer la fonction $f(x) = \\sqrt(x) \\log(x)$ sur l'intervalle $]0,1]$."
   ]
  },
  {
   "cell_type": "code",
   "execution_count": null,
   "id": "e53a87c3-e4fb-4c60-8357-cff5cc7ee8b1",
   "metadata": {
    "tags": [
     "hide-input"
    ]
   },
   "outputs": [],
   "source": [
    "import numpy as np\n",
    "import plotly.graph_objs as go\n",
    "import plotly.io as pio\n",
    "pio.templates.default = \"seaborn\""
   ]
  },
  {
   "cell_type": "code",
   "execution_count": null,
   "id": "743972f5-5984-4179-8522-4ccbf7ff964f",
   "metadata": {},
   "outputs": [],
   "source": [
    "def f(x):\n",
    "    return np.sqrt(x)*np.log(x)"
   ]
  },
  {
   "cell_type": "code",
   "execution_count": null,
   "id": "17d30d52-e94f-431c-b7ee-c14fe197e1ef",
   "metadata": {},
   "outputs": [],
   "source": [
    "x = np.linspace(1.e-20, 1, 500)\n",
    "\n",
    "fig = go.Figure(go.Scatter(x=x, y=f(x), fill='tozeroy', name='f(x)'))\n",
    "fig.update_layout(title=\"Intégration de la fonction f(x) = √x log(x)\")\n",
    "fig.show(height=500)"
   ]
  },
  {
   "cell_type": "markdown",
   "id": "30bab81b-4776-4ddd-902b-d7f62e22b4ad",
   "metadata": {},
   "source": [
    "Quelle est la meilleure stratégie à adopter pour intégrer cette fonction en terme de côut pour obtenir une bonne précision (de l'ordre de 1e-13) : monter en ordre pour une formule de quadrature ou fixer un ordre de quadrature et augmenter le nombre de division ? "
   ]
  },
  {
   "cell_type": "markdown",
   "id": "3b7a6954-5cb1-4dd0-8fd7-cb6fa605a7ce",
   "metadata": {},
   "source": [
    "Pour répondre à la question précédente, nous avons intégré la fonction $f(x)$ pour différents ordre de la formule de quadrature de Clenshaw-Curtis et pour différents nombres de division."
   ]
  },
  {
   "cell_type": "code",
   "execution_count": null,
   "id": "d8184995-53e4-4bae-8e5f-d3cbb74f6bd6",
   "metadata": {
    "tags": [
     "hide-input"
    ]
   },
   "outputs": [],
   "source": [
    "def cheb_points(n):\n",
    "    return np.cos( (2*np.arange(0,n)+1)*np.pi / (2*n) )\n",
    "\n",
    "def coeffs_clenshawcurtis(n):\n",
    "    x = cheb_points(n+1) # n+1 Chebyshev nodes\n",
    "    k = np.arange(0, n+1, dtype='float')\n",
    "    b = np.zeros(n+1)\n",
    "    b[0::2] = 2 / (1 - k[0::2]*k[0::2])\n",
    "    theta = (2*np.arange(0,n+1)+1)/(2*(n+1))*np.pi \n",
    "    ## Construction of the matrix B from the notes\n",
    "    B = np.cos(np.outer(np.arange(0,n+1),theta))/(n+1)\n",
    "    B[1:,:] = 2*B[1:,:]\n",
    "    w = np.dot(np.transpose(B), b)\n",
    "    return x, w"
   ]
  },
  {
   "cell_type": "code",
   "execution_count": null,
   "id": "d5e84a56-f51a-4227-a83b-6ea9f6a0f228",
   "metadata": {
    "tags": [
     "hide-input"
    ]
   },
   "outputs": [],
   "source": [
    "res_exa = -4./9.\n",
    "\n",
    "# resultats obtenus avec l'intégration adaptative \n",
    "eval_fcn_adapt = 645\n",
    "err_adapt = 1.9056978218e-13/-res_exa\n",
    "\n",
    "xmin = 0.\n",
    "xmax = 1.\n",
    "\n",
    "nb_intervals = np.array([1, 10, 100, 1000])\n",
    "nb_pts = np.array([2, 5, 50, 500, 5000])\n",
    "\n",
    "res = np.zeros((nb_pts.size, nb_intervals.size))\n",
    "err = np.zeros((nb_pts.size, nb_intervals.size))\n",
    "\n",
    "for i_n, n in enumerate(nb_pts):\n",
    "    xk, wk = coeffs_clenshawcurtis(n-1)\n",
    "    for i_m, m in enumerate(nb_intervals):\n",
    "        x = np.linspace(xmin, xmax, m+1)\n",
    "        for j in range(m):\n",
    "            xminj = x[j]\n",
    "            xmaxj = x[j+1]\n",
    "            xkj = xminj + ((xmaxj-xminj)/2)*(xk+1) \n",
    "            wkj = ((xmaxj-xminj)/2)*wk\n",
    "            res[i_n, i_m] += np.sum(wkj*f(xkj))\n",
    "        err[i_n, i_m] = np.abs(res[i_n, i_m]-res_exa) /  np.abs(res_exa)\n",
    "\n",
    "\n",
    "fig03 = go.Figure()\n",
    "for i_n, n in enumerate(nb_pts):\n",
    "    fig03.add_trace(go.Scatter(x=n*nb_intervals, y=err[i_n], mode=\"markers\", name=f\"n={n}\"))\n",
    "fig03.add_trace(go.Scatter(x=[eval_fcn_adapt], y=[err_adapt], mode=\"markers\", name=f\"intégration<br>adaptative\"))\n",
    "fig03.update_xaxes(type=\"log\", exponentformat='e', title_text=\"Nb d'évaluations de fonction\")\n",
    "fig03.update_yaxes(type=\"log\", exponentformat='e', title_text='Erreur')\n",
    "fig03.update_layout(height=500, title=\"Erreur en fonction du nb d'évaluations de fcn pour différents ordres de quadrature n\")\n",
    "fig03.show()        \n",
    "        \n",
    "fig01 = go.Figure()\n",
    "for i_m, m in enumerate(nb_intervals):\n",
    "    fig01.add_trace(go.Scatter(x=nb_pts, y=err[:,i_m], mode=\"markers\", name=f\"m={m}\"))\n",
    "fig01.update_xaxes(type=\"log\", exponentformat='e', title_text='Nb de points de quadrature par division')\n",
    "fig01.update_yaxes(type=\"log\", exponentformat='e', title_text='Erreur')\n",
    "fig01.update_layout(height=500, title=\"Erreur en fonction de l'ordre de quadrature pour différents nb de subdivisions m\")\n",
    "fig01.show()\n",
    "\n",
    "fig02 = go.Figure()\n",
    "for i_n, n in enumerate(nb_pts):\n",
    "    fig02.add_trace(go.Scatter(x=nb_intervals, y=err[i_n], mode=\"markers\", name=f\"n={n}\"))\n",
    "fig02.update_xaxes(type=\"log\", exponentformat='e', title_text='Nb de subdivisions')\n",
    "fig02.update_yaxes(type=\"log\", exponentformat='e', title_text='Erreur')\n",
    "fig02.update_layout(height=500, title=\"Erreur en fonction du nb de subdivisions pour différents ordres de quadrature n\")\n",
    "fig02.show()"
   ]
  },
  {
   "cell_type": "markdown",
   "id": "296ee3dd-ec72-4522-9295-ee7ee3dad97a",
   "metadata": {},
   "source": [
    "Le lecteur peut observer que la stratégie la plus efficace pour une précision donnée est de prendre un seul intervalle et de profiter de l’excellente stabilité de notre implémentation de la méthode de Clenshaw-Curtis pour monter en nombre de points de quadrature (le point le plus à gauche correspondant à un effort de calcul minimal pour une précision fixée est celui qui correspond à une quadrature élémentaire).\n",
    " \n",
    "Nous sommes dans un contexte où la perte de régularité de la fonction près de zéro met en défaut les théorèmes de convergence que ce soit en termes de nombres d’intervalles de subdivision dans les quadratures composées à nombre de point de quadrature fixé (graphique du milieu) ou à nombre de subdivision donnée en fonction du nombre de points de quadrature (graphique du bas). Par conséquent, le graphique du haut permet de montrer que pour atteindre un précision fixée inférieure à 1.e-13 il faut au moins effectuer une quadrature élémentaire avec 50000 points et si l’on s’en tient à 5000 points de quadrature, alors il faut une centaine d’intervalles, ce qui conduit inéluctablement à un nombre d’évaluation de la fonction de l’ordre de 50 000 à 500 000.\n",
    " \n",
    "Le lecteur pourra observer que pour cette fonction particulière, une quadrature de type adaptative permet de diviser le nombre d’évaluation de la fonction par un facteur de l’ordre de 100, ce qui correspond à une très nette accélération du calcul.\n",
    "\n",
    "Pour la méthode adaptative, à chaque itération, deux quadratures d'ordre 15 sont calculées, ce qui correspond à 30 évaluations de fonctions. Pour ce cas, cet algorithme a convergé en 21 itérations pour atteindre une précision de l'ordre de 1e-13 (auquels il faut ajouter le calcul de deux quadratures supplémentaires lors de l'initialisation), ce qui fait 21x30 + 15 soit 645 évaluations de fonctions. En toute rigueur, pour évaluer le coût de la méthode adaptative, il faudrait prendre en compte le calcul de l'estimation d'erreur.    "
   ]
  }
 ],
 "metadata": {
  "kernelspec": {
   "display_name": "Python 3 (ipykernel)",
   "language": "python",
   "name": "python3"
  },
  "language_info": {
   "codemirror_mode": {
    "name": "ipython",
    "version": 3
   },
   "file_extension": ".py",
   "mimetype": "text/x-python",
   "name": "python",
   "nbconvert_exporter": "python",
   "pygments_lexer": "ipython3",
   "version": "3.10.4"
  }
 },
 "nbformat": 4,
 "nbformat_minor": 5
}
