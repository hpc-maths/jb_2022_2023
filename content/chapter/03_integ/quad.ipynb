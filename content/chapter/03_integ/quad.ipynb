{
 "cells": [
  {
   "cell_type": "markdown",
   "id": "9eb20dbd-b14e-4745-b1ce-793da9c443a3",
   "metadata": {
    "tags": []
   },
   "source": [
    "# Formules de quadrature\n",
    "\n",
    "On cherche à approcher l’intégrale :\n",
    "\n",
    "$$\n",
    "I(f) = \\int_a^b f(x){\\mathrm d}x.\n",
    "$$"
   ]
  },
  {
   "cell_type": "markdown",
   "id": "646fb038-e712-450c-ae27-d21ff82f40c1",
   "metadata": {},
   "source": [
    "## Formule simple"
   ]
  },
  {
   "cell_type": "markdown",
   "id": "6ebb63a0-23a1-4de1-bc8b-574ec42f0c9c",
   "metadata": {},
   "source": [
    "On cherche une formule de quadrature directement sur l'intervalle $[a,b]$. Une formule de quadrature à s étages est donnée par :\n",
    "\n",
    "$$\n",
    "I(f) = \\int_a^b f(x){\\mathrm d}x = (b-a) \\int_0^1 g(t){\\mathrm d}t \\approx \\sum_{i=0}^{s-1}b_ig(c_i) \\quad \\text{avec }g(t)=f(a+t(b-a))\n",
    "$$\n",
    "\n",
    "où les s abscisses de quadrature sont les $ci$ et les poids associés sont les $bi$. On parle aussi parfois de nœuds pour les abscisses de quadrature."
   ]
  },
  {
   "cell_type": "code",
   "execution_count": null,
   "id": "8bacd3c3-3fc2-481a-ae1f-04ba74700253",
   "metadata": {},
   "outputs": [],
   "source": [
    "import numpy as np\n",
    "import plotly.graph_objs as go\n",
    "from scipy.integrate import newton_cotes\n",
    "from scipy import interpolate\n",
    "import plotly.io as pio\n",
    "pio.templates.default = \"seaborn\""
   ]
  },
  {
   "cell_type": "markdown",
   "id": "a89dbc57-b18d-4ab3-83b5-ba3bb2e51800",
   "metadata": {},
   "source": [
    "**Exemple pour $f(x) = cos(\\frac{\\pi}{2}x)$ avec les formules de Newton-Cotes**"
   ]
  },
  {
   "cell_type": "code",
   "execution_count": null,
   "id": "2419a41f-0ad6-4aab-a452-c20f2e1bafad",
   "metadata": {},
   "outputs": [],
   "source": [
    "def f(x):\n",
    "    return np.cos((np.pi/2)*x)"
   ]
  },
  {
   "cell_type": "code",
   "execution_count": null,
   "id": "911d23a3-b760-4ecf-a24f-972176789600",
   "metadata": {},
   "outputs": [],
   "source": [
    "xplot = np.linspace(0,1,100)\n",
    "\n",
    "fig = go.Figure(layout_title='Formule simple avec Newton-Cotes')\n",
    "fig.add_trace(go.Scatter(x=xplot, y=f(xplot), name='f(x)', line_width=3, line_color='rgb(76,114,176)'))\n",
    "\n",
    "s = np.arange(2,20)\n",
    "\n",
    "for si in s:\n",
    "    b, _ = newton_cotes(si-1, equal=1)\n",
    "    b = b/(si-1)\n",
    "    c = np.linspace(0, 1, si)\n",
    "    p = interpolate.KroghInterpolator(c, f(c))\n",
    "\n",
    "    fig.add_trace(go.Scatter(visible=False, x=c, y=f(c), mode='markers', line_color='rgb(221,132,82)', marker_size=8, showlegend=False))\n",
    "    fig.add_trace(go.Scatter(visible=False, x=xplot, y=p(xplot), fill='tozeroy', line_color='rgb(221,132,82)', name=\"Intégrale <br> estimée\"))\n",
    "\n",
    "\n",
    "# Make plot visible for s=2\n",
    "fig.data[1].visible = True\n",
    "fig.data[2].visible = True\n",
    "\n",
    "# Create and add slider\n",
    "steps = []\n",
    "for i, si in enumerate(np.arange(2,20)):\n",
    "    step = dict(method=\"update\", label = f\" {si}\",\n",
    "                args=[{\"visible\": [el==0 or el==2*i+1 or el==2*i+2 for el in range(len(fig.data))]}])\n",
    "    steps.append(step)\n",
    "sliders = [dict(currentvalue={\"prefix\": \"Nb de points : \"}, steps=steps)]\n",
    "\n",
    "fig.update_layout(sliders=sliders, height=500)\n",
    "fig.show()"
   ]
  },
  {
   "cell_type": "markdown",
   "id": "1f47144e-8522-410e-9e62-e9f0a1aed58c",
   "metadata": {},
   "source": [
    "**Résultats pour $f(x) = cos(\\frac{\\pi}{2}x)$ avec les formules de Newton-Cotes**"
   ]
  },
  {
   "cell_type": "code",
   "execution_count": null,
   "id": "f3300dd9-6a01-45b4-b016-8dde0d9dbdd5",
   "metadata": {},
   "outputs": [],
   "source": [
    "s = np.arange(2, 30, 1)\n",
    "\n",
    "res_exa = 2/np.pi\n",
    "\n",
    "for i, si in enumerate(s):\n",
    "    b, _ = newton_cotes(si-1, equal=1)\n",
    "    b = b/(si-1)\n",
    "    c = np.linspace(0, 1, si)\n",
    "    #print(c)\n",
    "    res = np.sum(b * f(c))\n",
    "    err = np.abs(res - res_exa)/res_exa\n",
    "    print(f\"Nb de points : {si:2d} --> erreur relative  : {err:20.15e}\")"
   ]
  },
  {
   "cell_type": "markdown",
   "id": "e83c4522-8e4d-47ab-95ea-e8f1ab86c8db",
   "metadata": {},
   "source": [
    "## Formules composées\n",
    "\n",
    "Pour la formule composée, on subdivise l'intervalle $[a,b]$ en $n$ sous-intervalles $[x_i,x_{i+1}]$, $i\\in\\{0, n-1\\}$, $a=x_0 < x_1 \\ldots, <x_n=b$, sur lesquels on va utiliser une formule simple:\n",
    "\n",
    "$$\n",
    "I(f) = \\int_a^b f(x){\\mathrm d}x = \\sum_{i=0}^{n-1} \\int_{x_i}^{x_{i+1}} f(x){\\mathrm d}x = \\sum_{i=0}^{n-1} (x_{i+1} -x_{i}) \\int_0^1 g(t){\\mathrm d}t \\\\ \n",
    "\\quad \\text{avec } g(t)=f(x_i+t(x_{i+1} -x_{i})).\n",
    "$$\n",
    "\n",
    "On obtient :\n",
    "\n",
    "$$\n",
    "I(f) \\approx \\sum_{i=0}^{n-1} \\frac{x_{i+1} -x_{i}}{2} \\sum_{j=0}^{s-1}b_j g(c_j)\n",
    "$$\n",
    "\n",
    "où les s abscisses de quadrature sont les $cj$ et les poids associés sont les $bj."
   ]
  },
  {
   "cell_type": "markdown",
   "id": "57956175-4dfe-4bd4-8247-965850faf008",
   "metadata": {},
   "source": [
    "**Exemple pour $f(x) = cos(\\frac{\\pi}{2}x)$ pour $n=2$ avec les formules de Newton-Cotes**"
   ]
  },
  {
   "cell_type": "code",
   "execution_count": null,
   "id": "08527c87-a59c-4cfe-80a4-0fb663bb6506",
   "metadata": {},
   "outputs": [],
   "source": [
    "fig = go.Figure(layout_title='Formule composée (n=2) avec Newton-Cotes ')\n",
    "fig.add_trace(go.Scatter(x=xplot, y=f(xplot), name='f(x)', line_width=3, line_color='rgb(76,114,176)'))\n",
    "\n",
    "s = np.arange(2,20)\n",
    "\n",
    "n = 2\n",
    "x = np.linspace(0, 1, n+1)\n",
    "\n",
    "for si in s:\n",
    "    b, _ = newton_cotes(si-1, equal=1)\n",
    "    b = b/(si-1)\n",
    "    c = np.linspace(0, 1, si)\n",
    "\n",
    "    for j in range(n):\n",
    "        h = x[j+1]-x[j]\n",
    "        \n",
    "        xq = x[j]+h*c\n",
    "        p = interpolate.KroghInterpolator(xq, f(xq))\n",
    "\n",
    "        xplot = np.linspace(x[j],x[j+1],100)\n",
    "\n",
    "        fig.add_trace(go.Scatter(visible=False, x=xq, y=f(xq), mode='markers', line_color='rgb(76,114,176)', marker_size=8, showlegend=False))\n",
    "        #fig.add_trace(go.Scatter(visible=False, x=xplot, y=p(xplot), fill='tozeroy', line_color='rgb(221,132,82)', name=\"Intégrale <br> estimée\"))\n",
    "        fig.add_trace(go.Scatter(visible=False, x=xplot, y=p(xplot), fill='tozeroy', name=f\"i={j}\"))\n",
    "\n",
    "\n",
    "# Make plot visible for s=2\n",
    "fig.data[1].visible = True\n",
    "fig.data[2].visible = True\n",
    "fig.data[3].visible = True\n",
    "fig.data[4].visible = True\n",
    "\n",
    "# Create and add slider\n",
    "steps = []\n",
    "for i, si in enumerate(np.arange(2,20)):\n",
    "    step = dict(method=\"update\", label = f\" {si}\",\n",
    "                args=[{\"visible\": [el==0 or el==4*i+1 or el==4*i+2 or el==4*i+3 or el==4*i+4 for el in range(len(fig.data))]}])\n",
    "    steps.append(step)\n",
    "sliders = [dict(currentvalue={\"prefix\": \"Nb de points : \"}, steps=steps)]\n",
    "\n",
    "fig.update_layout(sliders=sliders, height=500)\n",
    "\n",
    "fig.show()"
   ]
  },
  {
   "cell_type": "markdown",
   "id": "5b5e30c9-61fb-4ef5-82be-ace308a18201",
   "metadata": {},
   "source": [
    "**Résultats pour $f(x) = cos(\\frac{\\pi}{2}x)$ avec les formules de Newton-Cotes**"
   ]
  },
  {
   "cell_type": "code",
   "execution_count": null,
   "id": "e8cc96cf-5a2c-44a3-bc48-c62f1955d242",
   "metadata": {},
   "outputs": [],
   "source": [
    "res_exa = 2/np.pi\n",
    "\n",
    "s = 7\n",
    "w, _ = newton_cotes(s-1, equal=1)\n",
    "w = w/(s-1)\n",
    "r = np.linspace(0, 1, s)\n",
    "print(f\"Nb de points par intervalle : {s}\\n\")\n",
    "\n",
    "a = 0\n",
    "b = 1\n",
    "\n",
    "n = np.array((1, 10, 100, 500, 1000, 10000, 100000))\n",
    "\n",
    "for i, ni in enumerate(n):\n",
    "    x = np.linspace(a, b, ni+1)\n",
    "    res = 0.\n",
    "    for j in range(ni):\n",
    "        h = x[j+1]-x[j]\n",
    "        res +=  h * np.sum(w * f(x[j]+h*r))\n",
    "    err = np.abs(res - res_exa)/res_exa\n",
    "    print(f\"Nb d'intervalles : {ni:6d} --> erreur relative  : {err:20.15e}\")"
   ]
  }
 ],
 "metadata": {
  "kernelspec": {
   "display_name": "Python 3 (ipykernel)",
   "language": "python",
   "name": "python3"
  },
  "language_info": {
   "codemirror_mode": {
    "name": "ipython",
    "version": 3
   },
   "file_extension": ".py",
   "mimetype": "text/x-python",
   "name": "python",
   "nbconvert_exporter": "python",
   "pygments_lexer": "ipython3",
   "version": "3.10.4"
  }
 },
 "nbformat": 4,
 "nbformat_minor": 5
}
